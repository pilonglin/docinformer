{
 "cells": [
  {
   "cell_type": "code",
   "execution_count": 12,
   "metadata": {},
   "outputs": [],
   "source": [
    "from torch_tools.m_dataset import MDataset,ch_names \n",
    "from torch_tools.train_test import train,test,test_roc\n",
    "from torch_tools.DOCinformer import DOCinformer\n",
    "from torch.utils.data import DataLoader\n",
    "from glob import glob\n",
    "import torch\n",
    "from torch.utils.data.dataset import ConcatDataset\n",
    "from torch.utils.data import Subset\n",
    "from sklearn.model_selection import train_test_split,KFold\n",
    "import gc\n",
    "import pandas as pd\n",
    "import optuna\n",
    "import os\n",
    "import joblib\n",
    "import numpy as np\n",
    "import matplotlib.pyplot as plt"
   ]
  },
  {
   "cell_type": "code",
   "execution_count": 13,
   "metadata": {},
   "outputs": [],
   "source": [
    "t_window = 10\n",
    "t_overlap = 0.0\n",
    "sf = 250"
   ]
  },
  {
   "cell_type": "code",
   "execution_count": 14,
   "metadata": {},
   "outputs": [],
   "source": [
    "n_folds = 5\n",
    "valid_ratio = 0.2\n",
    "random_state = 555\n",
    "ckp_parent_dir = 'ckp\\\\pdoc\\\\DOCinformer'"
   ]
  },
  {
   "cell_type": "code",
   "execution_count": 15,
   "metadata": {},
   "outputs": [],
   "source": [
    "# 读取pdoc\n",
    "sub_regex = 'F:\\\\PLL\\\\静息态数据没有ICA\\\\*.mat'\n",
    "sub_paths = glob(sub_regex)"
   ]
  },
  {
   "cell_type": "code",
   "execution_count": 16,
   "metadata": {},
   "outputs": [],
   "source": [
    "def sub_kfold_withvalid(sub_dataset_list,n_folds,valid_ratio,random_state=0):\n",
    "    # 分k折\n",
    "    train_folds={}\n",
    "    valid_folds={}\n",
    "    test_folds={}\n",
    "    kf = KFold(n_splits=n_folds,shuffle=True,random_state=random_state)\n",
    "    for i, (train_indexes, test_indexes) in enumerate(kf.split(sub_dataset_list)):\n",
    "        train_subjects = [sub_dataset_list[train_index]  for train_index in train_indexes]\n",
    "        test_subjects = [sub_dataset_list[test_index]  for test_index in test_indexes]\n",
    "        # valid\n",
    "        if valid_ratio == 0:\n",
    "            valid_subjects = test_subjects\n",
    "        else:\n",
    "            train_subjects,valid_subjects = train_test_split(train_subjects,test_size=valid_ratio,shuffle=True,random_state=random_state)\n",
    "        # 记录本fold的subject编号\n",
    "        train_folds[i]=train_subjects\n",
    "        valid_folds[i]=valid_subjects\n",
    "        test_folds[i]=test_subjects   \n",
    "    return train_folds,valid_folds,test_folds"
   ]
  },
  {
   "cell_type": "code",
   "execution_count": 17,
   "metadata": {},
   "outputs": [],
   "source": [
    "def trainnfold(standard_chs,nets,optimizers,batch_size,epochs,ckp_dir):\n",
    "    if not os.path.exists(ckp_dir):\n",
    "        os.makedirs(ckp_dir)\n",
    "    # load\n",
    "    pdoc_sub_dataset_list = []\n",
    "    pdoc_label_dict =  {\n",
    "        'VS':0,\n",
    "        'MCS':1,\n",
    "    } \n",
    "    for sub_path in sub_paths:\n",
    "        sub_dataset = MDataset(sub_path,t_window,t_overlap,standard_chs,pdoc_label_dict)\n",
    "        if len(sub_dataset)>0 :\n",
    "            pdoc_sub_dataset_list.append(sub_dataset)\n",
    "    pdoc_train_folds,pdoc_valid_folds,_  = sub_kfold_withvalid(pdoc_sub_dataset_list,n_folds,valid_ratio,random_state)\n",
    "\n",
    "    avg_test_result = 0.0\n",
    "    for i in range(n_folds): \n",
    "        fold_ckp_path = ckp_dir+'\\\\'+f'fold_{i}.pth'\n",
    "        # loader\n",
    "        train_dataset = ConcatDataset(pdoc_train_folds[i])\n",
    "        valid_dataset = ConcatDataset(pdoc_valid_folds[i])  \n",
    "        train_loader = DataLoader(train_dataset,batch_size=batch_size,shuffle=True,drop_last=False)\n",
    "        valid_loader = DataLoader(valid_dataset,batch_size=batch_size,shuffle=True,drop_last=False)\n",
    "        # 训练\n",
    "        net = nets[i]\n",
    "        optimizer = optimizers[i]\n",
    "        fold_test_result = train(net,fold_ckp_path,train_loader,valid_loader,optimizer,epochs,use_best_valid = True)\n",
    "        print(f' finish fold test:{fold_test_result}')\n",
    "        avg_test_result += fold_test_result\n",
    "    avg_test_result = avg_test_result/n_folds\n",
    "    gc.collect()\n",
    "    return avg_test_result"
   ]
  },
  {
   "cell_type": "code",
   "execution_count": 18,
   "metadata": {},
   "outputs": [],
   "source": [
    "def testnfold(standard_chs,nets,ckp_dir):\n",
    "    # load dataset\n",
    "    pdoc_sub_dataset_list = []\n",
    "    for sub_path in sub_paths:\n",
    "        sub_dataset = MDataset(sub_path,t_window,0.0,standard_chs,{'MCS':1})\n",
    "        if len(sub_dataset)>0 :\n",
    "            pdoc_sub_dataset_list.append(sub_dataset)\n",
    "        sub_dataset = MDataset(sub_path,t_window,0.0,standard_chs,{'VS':0})\n",
    "        if len(sub_dataset)>0 :\n",
    "            pdoc_sub_dataset_list.append(sub_dataset)\n",
    "    pdoc_train_folds,pdoc_valid_folds,pdoc_test_folds  = sub_kfold_withvalid(pdoc_sub_dataset_list,n_folds,valid_ratio,random_state)\n",
    "    \n",
    "    avg_test_acc = 0.0\n",
    "    avg_test_precision = 0.0\n",
    "    avg_test_f1 = 0.0\n",
    "    avg_test_recall = 0.0\n",
    "\n",
    "    tprs = []\n",
    "    roc_aucs = []  \n",
    "    fold_test_results = []\n",
    "    for i in range(n_folds):\n",
    "        fold_ckp_path = ckp_dir+'\\\\'+f'fold_{i}.pth'\n",
    "        net = nets[i]\n",
    "        test_subs = pdoc_test_folds[i]\n",
    "        # 记录本折测试结果\n",
    "        fold_test_result = test(net,fold_ckp_path,DataLoader(ConcatDataset(test_subs),batch_size=8,shuffle=True,drop_last=False))\n",
    "        fold_test_results.append(fold_test_result)\n",
    "        avg_test_acc += fold_test_result[\"acc\"]\n",
    "        avg_test_precision += fold_test_result[\"precision\"]\n",
    "        avg_test_recall += fold_test_result[\"recall\"]\n",
    "        avg_test_f1 += fold_test_result[\"f1\"]\n",
    "        # 记录本折ROC结果\n",
    "        mean_fpr,interp_tpr,roc_auc = test_roc(net,fold_ckp_path,DataLoader(ConcatDataset(test_subs),batch_size=8,shuffle=True,drop_last=False))\n",
    "        tprs.append(interp_tpr)\n",
    "        roc_aucs.append(roc_auc)\n",
    "\n",
    "        \n",
    "    ## 处理测试结果\n",
    "    # 最后一行是平均\n",
    "    avg_test_acc = avg_test_acc/n_folds\n",
    "    avg_test_precision = avg_test_precision/n_folds\n",
    "    avg_test_recall = avg_test_recall/n_folds\n",
    "    avg_test_f1 = avg_test_f1/n_folds\n",
    "    avg_result = {\"precision\":avg_test_precision,\"recall\":avg_test_recall,\"f1\":avg_test_f1,\"acc\":avg_test_acc}\n",
    "    print(avg_result)\n",
    "    fold_test_results.append(avg_result)\n",
    "    df = pd.DataFrame(fold_test_results)\n",
    "    # 保存为CSV文件\n",
    "    df.to_csv(ckp_dir+f\"-use{len(standard_chs)}-test.csv\", index=False)\n",
    "\n",
    "    ## 绘制ROC曲线\n",
    "    mean_tpr = np.mean(tprs, axis=0)\n",
    "    mean_auc = np.mean(roc_aucs)\n",
    "    std_auc = np.std(roc_aucs)\n",
    "    plt.plot(mean_fpr, mean_tpr, color='b', label=r'Mean ROC (AUC = %0.2f $\\pm$ %0.2f)' % (mean_auc, std_auc), lw=2, alpha=0.8)\n",
    "    joblib.dump((mean_tpr,mean_auc),ckp_dir+f\"-use{len(standard_chs)}-test.joblib\")\n",
    "    return avg_result,mean_auc"
   ]
  },
  {
   "cell_type": "code",
   "execution_count": 19,
   "metadata": {},
   "outputs": [],
   "source": [
    "def objective(trial,standard_chs,test=False,part_chs = None):\n",
    "    ckp_dir = ckp_parent_dir + '\\\\' + f'ch{len(standard_chs)}-trail{trial.number}'\n",
    "    # 模型结构参数\n",
    "    pool_time_stride = trial.suggest_categorical(\"pool_time_stride\", [200])\n",
    "    n_filters_time = trial.suggest_categorical(\"n_filters_time\", [64])\n",
    "    filter_time_length = trial.suggest_categorical(\"filter_time_length\", [25])\n",
    "    depth = trial.suggest_int('depth', 1,1)\n",
    "    att_heads =  trial.suggest_int('att_heads', 1,1)\n",
    "    # 训练参数\n",
    "    epochs = 20\n",
    "    batch_size = trial.suggest_categorical(\"batch_size\", [16])\n",
    "    lr = (4*trial.suggest_int('lr',1,1))*1e-4\n",
    "    wd = trial.suggest_categorical(\"wd\", [0.1])\n",
    "   # setting\n",
    "    nets = [DOCinformer(n_outputs=2, input_window_seconds=t_window,sfreq=sf, standard_chs = standard_chs,positionEncoding = 'coordinate',channel_drop_prob = 0.2,att_drop_prob = 0.4,\n",
    "                                              filter_time_length=filter_time_length,att_depth=depth,att_heads=att_heads,n_filters_time=n_filters_time,pool_time_stride = pool_time_stride,pool_time_length=pool_time_stride)\n",
    "            for i in range(n_folds)]\n",
    "    optimizers = [torch.optim.AdamW(net.parameters(), lr=lr,weight_decay=lr*wd)\n",
    "            for net in nets]\n",
    "    # t\n",
    "    if test:\n",
    "        for net in nets:\n",
    "            net.select_channel(part_chs)\n",
    "        return testnfold(part_chs,nets,ckp_dir)\n",
    "    else:\n",
    "        return trainnfold(standard_chs,nets,optimizers,batch_size,epochs,ckp_dir)"
   ]
  },
  {
   "cell_type": "code",
   "execution_count": null,
   "metadata": {},
   "outputs": [],
   "source": [
    "# standard_chs = ['Fpz','P8', 'Oz', 'TP9', 'C4', 'FC6', 'F4', 'CP6', 'CP1', 'P4',  \n",
    "#            'T7', 'FC1', 'O1', 'TP10', 'FC2', 'CP2', 'C3', 'P7', 'FC5', 'F7', \n",
    "#            'P3', 'Fp2', 'O2', 'F8', 'Pz', 'CP5','F3', 'Fp1', 'T8','Fz']\n",
    "# study = optuna.create_study(direction='maximize')\n",
    "# study.optimize(lambda trial: objective(trial,standard_chs), n_trials=10)\n",
    "# joblib.dump(study.best_trial, ckp_parent_dir+\"//best_trail.joblib\")"
   ]
  },
  {
   "cell_type": "code",
   "execution_count": 21,
   "metadata": {},
   "outputs": [],
   "source": [
    "best_trial = joblib.load(ckp_parent_dir+\"//best_trail.joblib\")"
   ]
  },
  {
   "cell_type": "code",
   "execution_count": 22,
   "metadata": {},
   "outputs": [
    {
     "name": "stdout",
     "output_type": "stream",
     "text": [
      "precision:0.6458333333333334,recall:0.9232531500572738,f1:0.7600188590287601,acc:0.6696950032446464\n",
      "precision:0.7549450549450549,recall:0.8439803439803439,f1:0.796983758700696,acc:0.7571131158917418\n",
      "precision:0.9155080213903743,recall:0.9617977528089887,f1:0.9380821917808219,acc:0.904480135249366\n",
      "precision:0.8058091286307054,recall:0.9345524542829644,f1:0.8654188948306596,acc:0.8007915567282322\n",
      "precision:0.8531073446327684,recall:0.8154815481548154,f1:0.8338702254947078,acc:0.7410329985652798\n",
      "{'precision': 0.7950405765864472, 'recall': 0.895813049856877, 'f1': 0.838874785967129, 'acc': 0.7746225619358532}\n"
     ]
    },
    {
     "data": {
      "text/plain": [
       "({'precision': 0.7950405765864472,\n",
       "  'recall': 0.895813049856877,\n",
       "  'f1': 0.838874785967129,\n",
       "  'acc': 0.7746225619358532},\n",
       " 0.7560074289283094)"
      ]
     },
     "execution_count": 22,
     "metadata": {},
     "output_type": "execute_result"
    },
    {
     "data": {
      "image/png": "[encoded data removed]",
      "text/plain": [
       "<Figure size 640x480 with 1 Axes>"
      ]
     },
     "metadata": {},
     "output_type": "display_data"
    }
   ],
   "source": [
    "standard_chs = ['Fpz','P8', 'Oz', 'TP9', 'C4', 'FC6', 'F4', 'CP6', 'CP1', 'P4',  \n",
    "           'T7', 'FC1', 'O1', 'TP10', 'FC2', 'CP2', 'C3', 'P7', 'FC5', 'F7', \n",
    "           'P3', 'Fp2', 'O2', 'F8', 'Pz', 'CP5', 'F3', 'Fp1', 'T8','Fz']\n",
    "objective(best_trial,standard_chs,True,standard_chs)"
   ]
  },
  {
   "cell_type": "code",
   "execution_count": 23,
   "metadata": {},
   "outputs": [
    {
     "name": "stdout",
     "output_type": "stream",
     "text": [
      "precision:0.5903780068728522,recall:0.983963344788087,f1:0.7379725085910653,acc:0.6041531473069436\n",
      "precision:0.728042328042328,recall:0.8452088452088452,f1:0.7822626492325184,acc:0.7342123525329632\n",
      "precision:0.8311195445920304,recall:0.9842696629213483,f1:0.9012345679012347,acc:0.8377007607776839\n",
      "precision:0.7876175548589341,recall:0.9672762271414822,f1:0.8682505399568035,acc:0.7988126649076517\n",
      "precision:0.8126843657817109,recall:0.991899189918992,f1:0.8933927847588164,acc:0.8113342898134863\n",
      "{'precision': 0.7499683600295711, 'recall': 0.9545234539957509, 'f1': 0.8366226100880876, 'acc': 0.7572426430677458}\n"
     ]
    },
    {
     "data": {
      "text/plain": [
       "({'precision': 0.7499683600295711,\n",
       "  'recall': 0.9545234539957509,\n",
       "  'f1': 0.8366226100880876,\n",
       "  'acc': 0.7572426430677458},\n",
       " 0.7454392732658162)"
      ]
     },
     "execution_count": 23,
     "metadata": {},
     "output_type": "execute_result"
    },
    {
     "data": {
      "image/png": "[encoded data removed]",
      "text/plain": [
       "<Figure size 640x480 with 1 Axes>"
      ]
     },
     "metadata": {},
     "output_type": "display_data"
    }
   ],
   "source": [
    "f_chs =  ['Fp1','Fp2','Fpz','F3','F4','F7','F8','Fz']\n",
    "objective(best_trial,standard_chs,True,f_chs)"
   ]
  }
 ],
 "metadata": {
  "kernelspec": {
   "display_name": "pll",
   "language": "python",
   "name": "python3"
  },
  "language_info": {
   "codemirror_mode": {
    "name": "ipython",
    "version": 3
   },
   "file_extension": ".py",
   "mimetype": "text/x-python",
   "name": "python",
   "nbconvert_exporter": "python",
   "pygments_lexer": "ipython3",
   "version": "3.10.13"
  }
 },
 "nbformat": 4,
 "nbformat_minor": 2
}
