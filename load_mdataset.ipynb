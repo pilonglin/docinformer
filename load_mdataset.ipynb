{
 "cells": [
  {
   "cell_type": "code",
   "execution_count": null,
   "metadata": {},
   "outputs": [],
   "source": [
    "from torch_tools.m_dataset import MDataset,ch_names \n",
    "from glob import glob"
   ]
  },
  {
   "cell_type": "code",
   "execution_count": null,
   "metadata": {},
   "outputs": [],
   "source": [
    "type_label_dict = {\n",
    "    'HC':1,\n",
    "    'MCS':1,\n",
    "    'VS':0,\n",
    "}   # 不同pdoc的编码\n",
    "t_window = 10\n",
    "t_overlap = 0.5\n",
    "sf = 250"
   ]
  },
  {
   "cell_type": "code",
   "execution_count": null,
   "metadata": {},
   "outputs": [],
   "source": [
    "# pdoc_sub_regex = 'f:\\\\pdoc-ane-feature\\\\temp-pdoc-epochs\\\\sub-*'\n",
    "# pdoc_sub_dirs = glob(pdoc_sub_regex)\n",
    "# for sub_dir in pdoc_sub_dirs:\n",
    "#     sub_dataset = MyDataset(sub_dir,250*10,0.5)\n",
    "#     sub_dataset_list.append(sub_dataset)\n",
    "    \n",
    "# health_sub_regex = 'f:\\\\pdoc-ane-feature\\\\temp-health-epochs\\\\sub-*'\n",
    "# health_sub_dirs = glob(health_sub_regex)\n",
    "# for sub_dir in health_sub_dirs:\n",
    "#     sub_dataset = MyDataset(sub_dir,250*10,0.5)\n",
    "#     sub_dataset_list.append(sub_dataset)"
   ]
  },
  {
   "cell_type": "code",
   "execution_count": null,
   "metadata": {},
   "outputs": [],
   "source": [
    "# 读取pdoc\n",
    "sub_regex = 'F:\\\\PLL\\\\静息态数据没有ICA\\\\*.mat'\n",
    "sub_paths = glob(sub_regex)\n",
    "chosen_chs = ch_names "
   ]
  },
  {
   "cell_type": "code",
   "execution_count": null,
   "metadata": {},
   "outputs": [],
   "source": [
    "for sub_path in sub_paths:\n",
    "        sub_dataset = MDataset(sub_path,t_window,t_overlap,chosen_chs,type_label_dict)\n",
    "        if not sub_dataset.fail_init:\n",
    "                print(sub_dataset.subject_name)\n",
    "                x = sub_dataset.epochs.get_data()[0]\n",
    "                # x = zscore(x, axis=-1)\n",
    "                print(x)"
   ]
  }
 ],
 "metadata": {
  "kernelspec": {
   "display_name": "pll",
   "language": "python",
   "name": "python3"
  },
  "language_info": {
   "codemirror_mode": {
    "name": "ipython",
    "version": 3
   },
   "file_extension": ".py",
   "mimetype": "text/x-python",
   "name": "python",
   "nbconvert_exporter": "python",
   "pygments_lexer": "ipython3",
   "version": "3.10.13"
  }
 },
 "nbformat": 4,
 "nbformat_minor": 2
}
